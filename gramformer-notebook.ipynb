{
  "nbformat": 4,
  "nbformat_minor": 0,
  "metadata": {
    "colab": {
      "name": "Gramformer-Notebook.ipynb",
      "provenance": [],
      "collapsed_sections": []
    },
    "kernelspec": {
      "name": "python3",
      "display_name": "Python 3"
    },
    "language_info": {
      "name": "python"
    }
  },
  "cells": [
    {
      "cell_type": "markdown",
      "source": [
        "## Bhavesh Bhatt\n",
        "[My YouTube channel](https://www.youtube.com/BhaveshBhatt8791)"
      ],
      "metadata": {
        "id": "owRL2Of6U5_O"
      }
    },
    {
      "cell_type": "code",
      "execution_count": null,
      "metadata": {
        "id": "zY_ZydFf_vvk"
      },
      "outputs": [],
      "source": [
        "!pip3 install -q pip==20.1.1 \n",
        "!pip3 install -qU git+https://github.com/PrithivirajDamodaran/Gramformer.git"
      ]
    },
    {
      "cell_type": "code",
      "source": [
        "from datetime import date\n",
        "today = date.today()\n",
        "print(\"Today's date : \", today)"
      ],
      "metadata": {
        "id": "OhYZbnzWUi5z"
      },
      "execution_count": null,
      "outputs": []
    },
    {
      "cell_type": "code",
      "source": [
        "from gramformer import Gramformer"
      ],
      "metadata": {
        "id": "BV98ZYjGZeWf"
      },
      "execution_count": null,
      "outputs": []
    },
    {
      "cell_type": "code",
      "source": [
        "gf = Gramformer(models = 1)"
      ],
      "metadata": {
        "id": "1D8fUDKAZgL5"
      },
      "execution_count": null,
      "outputs": []
    },
    {
      "cell_type": "code",
      "source": [
        "gf.correct(\"My name are Bhavesh\", max_candidates=1)"
      ],
      "metadata": {
        "id": "IOA2h1WqZ25_"
      },
      "execution_count": null,
      "outputs": []
    },
    {
      "cell_type": "code",
      "source": [
        "!pip install -q gradio"
      ],
      "metadata": {
        "id": "rCdVM9YKZ3U7"
      },
      "execution_count": null,
      "outputs": []
    },
    {
      "cell_type": "code",
      "source": [
        "def correct_sentence(text):\n",
        "    res = gf.correct(text) \n",
        "    return res[0][0]"
      ],
      "metadata": {
        "id": "92aEapcNZ3Zg"
      },
      "execution_count": null,
      "outputs": []
    },
    {
      "cell_type": "code",
      "source": [
        "import gradio as gr"
      ],
      "metadata": {
        "id": "U99SxoFpa1IK"
      },
      "execution_count": null,
      "outputs": []
    },
    {
      "cell_type": "code",
      "source": [
        "interface = gr.Interface(fn=correct_sentence, \n",
        "                         inputs='text',\n",
        "                         outputs='text')"
      ],
      "metadata": {
        "id": "ntZmDdW0ajZ8"
      },
      "execution_count": null,
      "outputs": []
    },
    {
      "cell_type": "code",
      "source": [
        "interface.launch()"
      ],
      "metadata": {
        "id": "pxkctp3OajcQ"
      },
      "execution_count": null,
      "outputs": []
    },
    {
      "cell_type": "code",
      "source": [
        ""
      ],
      "metadata": {
        "id": "zX12YWTKAA-R"
      },
      "execution_count": null,
      "outputs": []
    }
  ]
}